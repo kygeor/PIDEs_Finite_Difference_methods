{
 "cells": [
  {
   "cell_type": "code",
   "execution_count": 1,
   "id": "8835c633",
   "metadata": {},
   "outputs": [],
   "source": [
    "get_ipython().run_line_magic('matplotlib', 'inline')\n",
    "import matplotlib.pyplot as plt\n",
    "import numpy as np\n",
    "from math import *\n",
    "import scipy.stats\n",
    "from pandas import *\n",
    "from scipy import linalg\n",
    "#import scipy.integrate as integrate\n",
    "from scipy.integrate import quad\n",
    "import seaborn as sns\n",
    "import warnings\n",
    "warnings.filterwarnings(\"ignore\")\n",
    "from mpl_toolkits import mplot3d\n",
    "\n",
    "import plotly.offline as pyoff\n",
    "import plotly.graph_objs as go\n",
    "import plotly.graph_objects as go\n",
    "\n",
    "from tqdm.notebook import tqdm"
   ]
  },
  {
   "cell_type": "code",
   "execution_count": 2,
   "id": "f8fbe357",
   "metadata": {},
   "outputs": [],
   "source": [
    "# Define function to calculate jump distribution for integral terms\n",
    "\n",
    "def jump_distribution_full(x_value,mu,sigma_jump,step_x):\n",
    "    lower = x_value - step_x/2.0\n",
    "    upper = x_value + step_x/2.0\n",
    "    #print(lower,upper)\n",
    "    def normal_distribution_function(x):\n",
    "        value = scipy.stats.norm.pdf(x,mu,sigma_jump)\n",
    "        if sigma_jump == 0.0:\n",
    "            return 0.0\n",
    "        else:\n",
    "            return value\n",
    "    res, err = quad(normal_distribution_function, lower, upper)\n",
    "    return res  #output is a vector of the average densities around the regions of each value in the vector x"
   ]
  },
  {
   "cell_type": "code",
   "execution_count": 3,
   "id": "72aa678b",
   "metadata": {},
   "outputs": [],
   "source": [
    "# Coefficients as obtained from Alternating Direction Implicit (ADI) discretization scheme\n",
    "\n",
    "def a_coeff_sv(x_value, y_value, ksi, kappa, theta, theta_vol, omega):\n",
    "    \n",
    "    term_1 = np.absolute(kappa*(theta-x_value)/dx)\n",
    "    term_2 = (y_value/(dx**2)) + ((ksi**2)*y_value/(dy**2)) # will become 0 when y_value = y0 = 0\n",
    "    term_3 = np.absolute(theta_vol*(omega-y_value)/dy)*(y_value != y[-1]) # will become theta_vol*omega when y_value = y0 = 0\n",
    "    \n",
    "    coefficient = term_1 + term_2 + term_3\n",
    "    return coefficient\n",
    "\n",
    "def b_coeff_sv(x_value, y_value, ksi, kappa, theta, theta_vol, omega):\n",
    "    \n",
    "    term_1 = (kappa*(theta-x_value)/dx)*(kappa*(theta-x_value) > 0)\n",
    "    term_2 = (y_value/(2*(dx**2))) # will become 0 when y_value = y0 = 0\n",
    "    \n",
    "    coefficient_2 = term_1 + term_2\n",
    "    return coefficient_2\n",
    "\n",
    "def c_coeff_sv(x_value, y_value, ksi, kappa, theta, theta_vol, omega):\n",
    "    \n",
    "    term_1 = -(kappa*(theta-x_value)/dx)*(kappa*(theta-x_value) < 0)\n",
    "    term_2 = (y_value/(2*(dx**2))) # will become 0 when y_value = y0 = 0 \n",
    "    \n",
    "    coefficient_3 = term_1 + term_2\n",
    "    return coefficient_3 \n",
    "\n",
    "def d_coeff_sv(y_value, ksi, kappa, theta, theta_vol, omega):\n",
    "    \n",
    "    term_1 = ((ksi**2)*y_value/(2*(dy**2)))*(y_value != y[-1]) # will become 0 when y_value = y0 = 0 \n",
    "    term_2 = (theta_vol*(omega-y_value)/dy)*(theta_vol*(omega-y_value) > 0)*(y_value != y[-1])\n",
    "    \n",
    "    coefficient_4 = term_1 + term_2\n",
    "    return coefficient_4\n",
    "\n",
    "def e_coeff_sv(y_value, ksi, kappa, theta, theta_vol, omega):\n",
    "    \n",
    "    term_1 = ((ksi**2)*y_value/(2*(dy**2)))*(y_value != y[-1]) # will become 0 when y_value = y0 = 0 \n",
    "    term_2 = -(theta_vol*(omega-y_value)/dy)*(theta_vol*(omega-y_value) < 0)*(y_value != y[-1])*(y_value != y[0])\n",
    "    term_3 = ((ksi**2)*y_value/(dy**2))*(y_value == y[-1])\n",
    "    \n",
    "    coefficient_5 = term_1 + term_2 + term_3\n",
    "    return coefficient_5"
   ]
  },
  {
   "cell_type": "code",
   "execution_count": 4,
   "id": "21b1035e",
   "metadata": {},
   "outputs": [],
   "source": [
    "# Construction of M matrix containing the coefficients of the solution at time t = q+1 in the implicit scheme for a given volatility value (block)\n",
    "\n",
    "def M_matrix_sv(x,sigma,ksi, kappa, theta, theta_vol, omega, L):  \n",
    "    M = np.zeros(shape=(len(x),len(x)))\n",
    "    for i in range(0,len(x)):\n",
    "        if x[i] <= 0.0 or x[i] >= L:\n",
    "            M[i,i] = 1.0\n",
    "        else:\n",
    "            a_coefficient = a_coeff_sv(x[i], sigma, ksi, kappa, theta, theta_vol, omega)\n",
    "            b_coefficient = b_coeff_sv(x[i], sigma, ksi, kappa, theta, theta_vol, omega)\n",
    "            c_coefficient = c_coeff_sv(x[i], sigma, ksi, kappa, theta, theta_vol, omega)\n",
    "            if a_coefficient < 0 or b_coefficient < 0 or c_coefficient <0:\n",
    "                print('Error')\n",
    "            #print(x[(i-1):(i+2)])\n",
    "            M[i,(i-1):(i+2)] = [-dt*c_coefficient, 1+dt*a_coefficient, -dt*b_coefficient]\n",
    "\n",
    "    return M"
   ]
  },
  {
   "cell_type": "code",
   "execution_count": 5,
   "id": "f37b4b28",
   "metadata": {},
   "outputs": [],
   "source": [
    "# Construction of full block M matrix containing the coefficients of the solution at time t = q+1 across discretized volatility grid\n",
    "\n",
    "def M_final_sv(x,y,ksi, kappa, theta, theta_vol, omega, L_vec):\n",
    "    M_final_matrix = np.zeros(shape=(1,len(x)*len(y)))\n",
    "    #M_first = M_matrix_sv(x,y[0], 0, kappa,theta,jump_rate)\n",
    "    #M_last = M_matrix_sv(x, y[len(y)-1], kappa, theta, jump_rate)\n",
    "    \n",
    "    for i in tqdm(range(0,len(y))):\n",
    "        #if i == 0 or i == len(y)-1:\n",
    "        #    M_block = M_matrix_sv(x,y[i], 0, kappa, theta, L_vec[i])\n",
    "        #else:\n",
    "        M_block = M_matrix_sv(x, y[i], ksi, kappa, theta, theta_vol, omega, L_vec[i])\n",
    "        for j in range(0,len(y)):\n",
    "            if j < i:\n",
    "                e_c = e_coeff_sv(y[i], ksi, kappa, theta, theta_vol, omega)\n",
    "                X_current = np.eye(len(x))*(-dt*e_c*(j == (i-1)))\n",
    "                X_current[x <= 0.0] = 0.0\n",
    "                X_current[x >= L_vec[i]] = 0.0\n",
    "                M_block = np.block([X_current, M_block])\n",
    "                #print(f' Vol {y[i]} to {y[j]} --- e {e_c*(j == (i-1))}')\n",
    "            if j > i:\n",
    "                d_c = d_coeff_sv(y[i], ksi, kappa, theta, theta_vol, omega)\n",
    "                X_current = np.eye(len(x))*(-dt*d_c*(j == (i+1)))\n",
    "                X_current[x <= 0.0] = 0.0\n",
    "                X_current[x >= L_vec[i]] = 0.0\n",
    "                M_block = np.block([ M_block, X_current]) \n",
    "                #print(f' Vol {y[i]} to {y[j]} --- d {d_c*(j == (i+1))}')\n",
    "            \n",
    "            if (e_coeff_sv(y[i], ksi, kappa, theta, theta_vol, omega) < 0 or d_coeff_sv(y[i], ksi, kappa, theta, theta_vol, omega) < 0 ):\n",
    "                print('Error - sv coeffs')\n",
    "        \n",
    "        M_final_matrix = np.block([\n",
    "            [M_final_matrix],\n",
    "            [M_block]\n",
    "        ])\n",
    "        \n",
    "    #M_final_sv_matrix = M_final_matrix[1:,:]\n",
    "    #M_final_sv_matrix[0:len(x),0:len(x)] = M_first\n",
    "    #M_final_matrix[(len(y)-1)*len(x):len(y)*len(x),(len(y)-1)*len(x):len(y)*len(x)] = M_last\n",
    "    \n",
    "    \n",
    "    \n",
    "    return M_final_matrix[1:,:]"
   ]
  },
  {
   "cell_type": "code",
   "execution_count": 6,
   "id": "8c293bd4",
   "metadata": {},
   "outputs": [],
   "source": [
    "# Calculation of integral term in the PIDE\n",
    "\n",
    "def jump_integral(x, mu, N, sigma_jump, step_x):\n",
    "    integral_list = []\n",
    "    positions = np.arange(int(-N/2+1),int(N/2),1)\n",
    "    for j in positions: \n",
    "        x_jump = step_x*j\n",
    "        integral = jump_distribution_full(x_jump, mu, sigma_jump, step_x)\n",
    "        #print(x_jump, integral)\n",
    "        integral_list.append(integral)\n",
    "\n",
    "    return sum(integral_list)"
   ]
  },
  {
   "cell_type": "code",
   "execution_count": 7,
   "id": "79f0a88a",
   "metadata": {},
   "outputs": [],
   "source": [
    "# Construction of matrix containing the coefficients of the solution at time t = q in the implicit scheme for a given volatility value y\n",
    "\n",
    "def N_matrix_sv(x, poisson_rate, N, mu, sigma_jump, step_x, L):\n",
    "    N_m = np.zeros(shape=(len(x),len(x)))\n",
    "    positions = np.arange(int(-N/2+1),int(N/2),1)\n",
    "    jump_result_list = []\n",
    "    for i in range(0,(len(x))):\n",
    "        integral_list = []\n",
    "        if x[i] > 0.0 and x[i] < L:\n",
    "            for j in positions: \n",
    "                x_jump = step_x*j\n",
    "                if (i+j) >= 0 and (i+j) <= (len(x)-1):\n",
    "                    integral = jump_distribution_full(x_jump, mu, sigma_jump, step_x)\n",
    "                    integral_list.append(integral)\n",
    "                    N_m[i,i+j] = poisson_rate*dt*integral\n",
    "                    \n",
    "            jump_integral = sum(integral_list)\n",
    "            N_m[i,i] = N_m[i,i]+ (1 - poisson_rate*dt*jump_integral)\n",
    "            \n",
    "            jump_result_list.append(jump_integral)\n",
    "            if 1-poisson_rate*dt*jump_integral < 0:\n",
    "                print('Error in integral approximation')\n",
    "                \n",
    "    print(f'Min: {min(jump_result_list,  default=\"EMPTY\")} Max: {max(jump_result_list,  default=\"EMPTY\")}')\n",
    "            \n",
    "    return N_m\n"
   ]
  },
  {
   "cell_type": "code",
   "execution_count": 8,
   "id": "c096b17b",
   "metadata": {},
   "outputs": [],
   "source": [
    "# Construction of full block N matrix containing the coefficients of the solution at time t = q+1 across discretized volatility grid\n",
    "\n",
    "def N_final_sv(x, poisson_rate, N, mu, sigma_jump, step_x, y, L_vec):\n",
    "    N_final_matrix = np.zeros(shape=(1,len(x)*len(y)))\n",
    "    for i in tqdm(range(0,len(y))):\n",
    "        N_block = N_matrix_sv(x, poisson_rate, N, mu, sigma_jump, step_x, L_vec[i])\n",
    "        for j in range(0,len(y)):\n",
    "            X_current = np.zeros((len(x),len(x)))\n",
    "            if j < i:\n",
    "                N_block = np.block([X_current, N_block])\n",
    "            if j > i:\n",
    "                N_block = np.block([N_block, X_current]) \n",
    "    \n",
    "        N_final_matrix = np.block([\n",
    "            [N_final_matrix],\n",
    "            [N_block]\n",
    "        ])\n",
    "    \n",
    "    return N_final_matrix[1:,:]"
   ]
  },
  {
   "cell_type": "code",
   "execution_count": 9,
   "id": "727801ba",
   "metadata": {},
   "outputs": [],
   "source": [
    "# Construction of boundary condition block matrix for the entire volatility grid\n",
    "\n",
    "def b_matrix(L_vec, y):\n",
    "    b_final_matrix = np.array([0])\n",
    "    for i in range(0,len(y)):\n",
    "        b_block = np.zeros(len(x))\n",
    "        b_block[x >= L_vec[i]] = 1.0\n",
    "        b_final_matrix = np.block([\n",
    "            b_final_matrix, b_block\n",
    "        ])\n",
    "    \n",
    "    return b_final_matrix[1:]"
   ]
  },
  {
   "cell_type": "code",
   "execution_count": 10,
   "id": "cdf0fd63",
   "metadata": {},
   "outputs": [],
   "source": [
    "# Construction of initial condition block matrix for the entire volatility grid \n",
    "\n",
    "def phi_matrix_def(x,y,t):\n",
    "    phi_final_matrix = np.zeros(shape=(1,len(t)))\n",
    "    for i in range(0, len(y)):\n",
    "        phi_block = np.zeros(shape = (len(x),len(t)))\n",
    "        phi_block[:,0] = 1.0 * (x>0.0)\n",
    "        phi_block[len(x)-1,:] = 1.0\n",
    "        \n",
    "        phi_final_matrix = np.block([\n",
    "            [phi_final_matrix],\n",
    "            [phi_block]\n",
    "        ])\n",
    "        \n",
    "    return phi_final_matrix[1:,:]"
   ]
  },
  {
   "cell_type": "code",
   "execution_count": 11,
   "id": "5d545d23",
   "metadata": {},
   "outputs": [],
   "source": [
    "# Define space, time and volatility grid \n",
    "\n",
    "x0 = -5.0\n",
    "xn = 75.0\n",
    "xsteps = 200\n",
    "dx = (xn-x0)/xsteps\n",
    "x = np.arange(x0, xn+dx, dx) #last x value is x = 99 \n",
    "#print(dx)\n",
    "\n",
    "t0 = 0.0\n",
    "tn = 1.0\n",
    "tsteps = 1000\n",
    "dt = (tn-t0)/tsteps\n",
    "t = np.arange(t0, tn+dt, dt) #last time value is t = 999.9\n",
    "r = dt / (dx**2) # ensure r < 1\n",
    "\n",
    "\n",
    "y0 = 0.0  # befor yn = 100, ysteps = 50\n",
    "yn = 200.0\n",
    "ysteps = 200\n",
    "dy = (yn-y0)/ysteps\n",
    "y = np.arange(y0, yn+dy, dy) #last x value is x = 99 "
   ]
  },
  {
   "cell_type": "code",
   "execution_count": null,
   "id": "376ea28c",
   "metadata": {},
   "outputs": [],
   "source": [
    "# Run ADI FD iteration scheme \n",
    "\n",
    "L_vec = np.ones(shape=(len(y)))*x[len(x)-1]\n",
    "\n",
    "kappa_choice = 2.0\n",
    "theta_choice = 2.0\n",
    "ksi_choice = 0.07\n",
    "theta_vol_choice = 0.05\n",
    "omega_choice = 0.1 #1.0\n",
    "poisson_rate = 1.0\n",
    "N_choice = 90\n",
    "mu_choice = 0.3\n",
    "sigma_jump_choice = 0.5\n",
    "\n",
    "M = M_final_sv(x,y,ksi_choice, kappa_choice, theta_choice, theta_vol_choice, omega_choice, L_vec)\n",
    "N_mat = N_final_sv(x, poisson_rate, N_choice, mu_choice, sigma_jump_choice, dx, y, L_vec)\n",
    "M_inv = linalg.inv(M)\n",
    "\n",
    "b = b_matrix(L_vec, y)\n",
    "phi_matrix = phi_matrix_def(x,y,t)\n",
    "\n",
    "if y[0] < np.max([(theta_choice*kappa_choice*dx), omega_choice*theta_vol_choice*dy/(ksi_choice**2)]):\n",
    "    print('Stability conditions may not be satisfied')\n",
    "\n",
    "\n",
    "for time in tqdm(range(1, len(t))): \n",
    "    phi_matrix[:,time] = M_inv.dot(N_mat.dot(phi_matrix[:,time-1]) + b)\n"
   ]
  },
  {
   "cell_type": "code",
   "execution_count": 12,
   "id": "c166b138",
   "metadata": {},
   "outputs": [],
   "source": [
    "# The scheme is computationally expensive - run once, save file and load to analyze \n",
    "\n",
    "# phi_matrix = read_csv('phi_matrix_sv_after_comparison.csv', index_col=0)\n",
    "# phi_matrix = np.array(phi_matrix)\n",
    "# L = 20.0"
   ]
  },
  {
   "cell_type": "code",
   "execution_count": 13,
   "id": "32fc7497",
   "metadata": {},
   "outputs": [],
   "source": [
    "xs = np.arange(0,len(x))\n",
    "phi_average = np.zeros(shape=(len(x),len(t)))\n",
    "for i in range(0,len(y)):\n",
    "    phi_average = phi_matrix[xs+i*len(x),] + phi_average\n",
    "    phi_average_final = phi_average/len(y)\n",
    "pd_phi_average_final = DataFrame(phi_average_final)"
   ]
  },
  {
   "cell_type": "code",
   "execution_count": 13,
   "id": "89684c66",
   "metadata": {},
   "outputs": [],
   "source": [
    "def survival(space,time):\n",
    "    return phi_matrix[space, time]\n",
    "\n",
    "\n",
    "def survival_av(space,time):\n",
    "    return phi_average_final[space,time]"
   ]
  },
  {
   "cell_type": "code",
   "execution_count": 14,
   "id": "7a300f3b",
   "metadata": {},
   "outputs": [],
   "source": [
    "accept_x = np.where((x>=0) & (x<=L))[0]"
   ]
  },
  {
   "cell_type": "code",
   "execution_count": 15,
   "id": "8eae28a7",
   "metadata": {},
   "outputs": [],
   "source": [
    "accept_x_with_zeros = np.append(accept_x, accept_x[-1]+1)"
   ]
  },
  {
   "cell_type": "code",
   "execution_count": 16,
   "id": "f6e2277c",
   "metadata": {},
   "outputs": [
    {
     "data": {
      "text/plain": [
       "array([414, 415, 416, 417, 418, 419, 420, 421, 422, 423, 424, 425, 426,\n",
       "       427, 428, 429, 430, 431, 432, 433, 434, 435, 436, 437, 438, 439,\n",
       "       440, 441, 442, 443, 444, 445, 446, 447, 448, 449, 450, 451, 452,\n",
       "       453, 454, 455, 456, 457, 458, 459, 460, 461, 462, 463, 464, 465],\n",
       "      dtype=int64)"
      ]
     },
     "execution_count": 16,
     "metadata": {},
     "output_type": "execute_result"
    }
   ],
   "source": [
    "accept_x_with_zeros = np.insert(accept_x_with_zeros,0,accept_x[0]-1)\n",
    "accept_x_with_zeros_new = np.array([i +2*len(x) for i in accept_x_with_zeros])\n",
    "accept_x_with_zeros_new"
   ]
  },
  {
   "cell_type": "code",
   "execution_count": 20,
   "id": "0ad44f11",
   "metadata": {},
   "outputs": [
    {
     "data": {
      "text/plain": [
       "'temp-plot.html'"
      ]
     },
     "execution_count": 20,
     "metadata": {},
     "output_type": "execute_result"
    }
   ],
   "source": [
    "X = accept_x_with_zeros_new #np.arange(len(x),2*len(x),1)\n",
    "T = np.arange(0,len(t),1)\n",
    "X, T = np.meshgrid(X, T)\n",
    "Phi = survival(X,T)\n",
    "\n",
    "data=go.Surface(z=Phi, x=x0+dx*accept_x_with_zeros, y=t0+dt*T)\n",
    "\n",
    "layout = go.Layout(scene = dict(\n",
    "                    xaxis_title='Initial Position',\n",
    "                    yaxis_title='Time until maturity',\n",
    "                    zaxis_title='Survival Probability'))\n",
    "\n",
    "fig = go.Figure(data=[data], layout=layout)\n",
    "pyoff.plot(fig)"
   ]
  }
 ],
 "metadata": {
  "kernelspec": {
   "display_name": "Python 3",
   "language": "python",
   "name": "python3"
  },
  "language_info": {
   "codemirror_mode": {
    "name": "ipython",
    "version": 3
   },
   "file_extension": ".py",
   "mimetype": "text/x-python",
   "name": "python",
   "nbconvert_exporter": "python",
   "pygments_lexer": "ipython3",
   "version": "3.8.8"
  }
 },
 "nbformat": 4,
 "nbformat_minor": 5
}
