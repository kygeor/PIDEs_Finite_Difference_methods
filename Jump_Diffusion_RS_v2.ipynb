{
 "cells": [
  {
   "cell_type": "code",
   "execution_count": 1,
   "id": "ed1b9820",
   "metadata": {},
   "outputs": [],
   "source": [
    "get_ipython().run_line_magic('matplotlib', 'inline')\n",
    "import matplotlib.pyplot as plt\n",
    "import numpy as np\n",
    "from math import *\n",
    "import scipy.stats\n",
    "from pandas import *\n",
    "#import scipy.integrate as integrate\n",
    "from scipy.integrate import quad\n",
    "import seaborn as sns\n",
    "import warnings\n",
    "warnings.filterwarnings(\"ignore\")\n",
    "from mpl_toolkits import mplot3d\n",
    "\n",
    "import plotly.offline as pyoff\n",
    "import plotly.graph_objs as go\n",
    "import plotly.graph_objects as go\n",
    "from scipy.linalg import expm\n",
    "from tqdm.notebook import tqdm"
   ]
  },
  {
   "cell_type": "code",
   "execution_count": 2,
   "id": "29e984d6",
   "metadata": {},
   "outputs": [],
   "source": [
    "# Define function to calculate jump distribution for integral terms \n",
    "\n",
    "def jump_distribution_full(x_value,mu,sigma_jump,step_x):\n",
    "    lower = x_value - step_x/2.0\n",
    "    upper = x_value + step_x/2.0\n",
    "    #print(lower,upper)\n",
    "    def normal_distribution_function(x):\n",
    "        value = scipy.stats.norm.pdf(x,mu,sigma_jump)\n",
    "        if sigma_jump == 0.0:\n",
    "            return 0.0\n",
    "        else:\n",
    "            return value\n",
    "    res, err = quad(normal_distribution_function, lower, upper)\n",
    "    return res  #output is a vector of the average densities around the regions of each value in the vector x\n"
   ]
  },
  {
   "cell_type": "code",
   "execution_count": 3,
   "id": "4629ca0c",
   "metadata": {},
   "outputs": [],
   "source": [
    "# Coefficients as obtained from BTCS discretization scheme\n",
    "\n",
    "def a_coeff_rs(x_value, sigma, kappa, theta, q_current):\n",
    "    coefficient = (sigma**2)/(dx**2) + np.sum(q_current)\n",
    "    return coefficient\n",
    "\n",
    "def b_coeff_rs(x_value, sigma, kappa, theta):\n",
    "    #print(sigma,kappa,theta,jump_rate)\n",
    "    coefficient_2 = 0.5*(sigma**2)*(1/dx**2) + 0.5*(1/dx)*kappa*(theta-x_value)\n",
    "    #print(coefficient_2)\n",
    "    return coefficient_2\n",
    "\n",
    "def c_coeff_rs(x_value, sigma, kappa, theta):\n",
    "    coefficient_3 = 0.5*(sigma**2)*(1/dx**2) - 0.5*(1/dx)*kappa*(theta-x_value)\n",
    "    return coefficient_3   \n"
   ]
  },
  {
   "cell_type": "code",
   "execution_count": 4,
   "id": "534c6b82",
   "metadata": {},
   "outputs": [],
   "source": [
    "# Construction of M matrix containing the coefficients of the solution at time t = q+1 in the implicit scheme for a single regime (block)\n",
    "\n",
    "def M_matrix_rs(x,sigma,kappa, theta, q_current, L):\n",
    "    M = np.zeros(shape=(len(x),len(x)))\n",
    "    for i in range(0,len(x)):\n",
    "        if x[i] <= 0.0 or x[i] >= L:\n",
    "            M[i,i] = 1.0\n",
    "        else:\n",
    "            #print(x[i])\n",
    "            a_coefficient = a_coeff_rs(x[i], sigma, kappa, theta, q_current)\n",
    "            b_coefficient = b_coeff_rs(x[i], sigma, kappa, theta)\n",
    "            c_coefficient = c_coeff_rs(x[i], sigma, kappa, theta)\n",
    "            if a_coefficient < 0 or b_coefficient < 0 or c_coefficient <0:\n",
    "                print('Error')\n",
    "            M[i,(i-1):(i+2)] = [-dt*c_coefficient, 1+dt*a_coefficient, -dt*b_coefficient]\n",
    "\n",
    "    return M"
   ]
  },
  {
   "cell_type": "code",
   "execution_count": 5,
   "id": "c2e05ff7",
   "metadata": {},
   "outputs": [],
   "source": [
    "# Construction of full block M matrix containing the coefficients of the solution at time t = q+1 across all regimes \n",
    "\n",
    "def M_final_rs(x,sigma_vec,kappa_vec, theta_vec, Q, L_vec):\n",
    "    \n",
    "    M_final_matrix = np.zeros(shape=(1,len(x)*len(Q)))\n",
    "    Q_temp = Q[~np.eye(Q.shape[0],dtype=bool)].reshape(Q.shape[0],-1)\n",
    "    for i in range(0,len(Q)):\n",
    "        M_block = M_matrix_rs(x,sigma_vec[i],kappa_vec[i],theta_vec[i],Q_temp[i,], L_vec[i])\n",
    "        print(Q_temp)\n",
    "        #print(sigma_vec[i],kappa_vec[i],theta_vec[i],jump_rate_vec[i],Q_temp[i,])\n",
    "        #print(DataFrame(M_block))\n",
    "        for j in range(0,len(Q)):\n",
    "            X_current = np.eye(len(x))*(-dt*Q[i,j])\n",
    "            X_current[x <= 0.0] = 0.0\n",
    "            X_current[x >= L_vec[i]] = 0.0\n",
    "            if j < i:\n",
    "                M_block = np.block([X_current, M_block])\n",
    "            if j > i:\n",
    "                M_block = np.block([ M_block, X_current]) \n",
    "        \n",
    "        M_final_matrix = np.block([\n",
    "            [M_final_matrix],\n",
    "            [M_block]\n",
    "        ])\n",
    "        \n",
    "    return M_final_matrix[1:,:]"
   ]
  },
  {
   "cell_type": "code",
   "execution_count": 6,
   "id": "aad7a0a3",
   "metadata": {},
   "outputs": [],
   "source": [
    "# Calculation of integral term in the PIDE\n",
    "\n",
    "def jump_integral(x, mu, N, sigma_jump, step_x):\n",
    "    integral_list = []\n",
    "    positions = np.arange(int(-N/2+1),int(N/2),1)\n",
    "    for j in positions: \n",
    "        x_jump = step_x*j\n",
    "        integral = jump_distribution_full(x_jump, mu, sigma_jump, step_x)\n",
    "        #print(x_jump, integral)\n",
    "        integral_list.append(integral)\n",
    "\n",
    "    return sum(integral_list)"
   ]
  },
  {
   "cell_type": "code",
   "execution_count": 7,
   "id": "67612c8a",
   "metadata": {},
   "outputs": [],
   "source": [
    "# Construction of matrix containing the coefficients of the solution at time t = q in the implicit scheme for a single regime (block)\n",
    "\n",
    "def N_matrix_rs(x, poisson_rate, N, mu, sigma_jump, step_x, L):\n",
    "    N_m = np.zeros(shape=(len(x),len(x)))\n",
    "    positions = np.arange(int(-N/2+1),int(N/2),1)\n",
    "    jump_result_list = []\n",
    "    for i in range(0,(len(x))):\n",
    "        integral_list = []\n",
    "        if x[i] > 0.0 and x[i] < L:\n",
    "            for j in positions: \n",
    "                x_jump = step_x*j\n",
    "                if (i+j) >= 0 and (i+j) <= (len(x)-1):\n",
    "                    integral = jump_distribution_full(x_jump, mu, sigma_jump, step_x)\n",
    "                    integral_list.append(integral)\n",
    "                    N_m[i,i+j] = poisson_rate*dt*integral\n",
    "                    \n",
    "            jump_integral = sum(integral_list)\n",
    "            N_m[i,i] = N_m[i,i]+ (1 - poisson_rate*dt*jump_integral)\n",
    "            \n",
    "            jump_result_list.append(jump_integral)\n",
    "            if 1-poisson_rate*dt*jump_integral < 0:\n",
    "                print('Error in integral approximation')\n",
    "                \n",
    "    print(f'Min: {min(jump_result_list,  default=\"EMPTY\")} Max: {max(jump_result_list,  default=\"EMPTY\")}')\n",
    "            \n",
    "    return N_m"
   ]
  },
  {
   "cell_type": "code",
   "execution_count": 8,
   "id": "b8a45f80",
   "metadata": {},
   "outputs": [],
   "source": [
    "# Construction of full block N matrix containing the coefficients of the solution at time t = q+1 across all regimes \n",
    "\n",
    "def N_final_rs(x, poisson_rate, N, mu, sigma_jump, step_x, Q, L_vec):\n",
    "    \n",
    "    N_final_matrix = np.zeros(shape=(1,len(x)*len(Q)))\n",
    "    for i in range(0,len(Q)):\n",
    "        N_block = N_matrix_rs(x, poisson_rate, N, mu, sigma_jump,step_x, L_vec[i])\n",
    "        for j in range(0,len(Q)):\n",
    "            X_current = np.zeros((len(x),len(x)))\n",
    "            if j < i:\n",
    "                N_block = np.block([X_current, N_block])\n",
    "            if j > i:\n",
    "                N_block = np.block([N_block, X_current]) \n",
    "    \n",
    "        N_final_matrix = np.block([\n",
    "            [N_final_matrix],\n",
    "            [N_block]\n",
    "        ])\n",
    "    \n",
    "    return N_final_matrix[1:,:]"
   ]
  },
  {
   "cell_type": "code",
   "execution_count": 9,
   "id": "772469e7",
   "metadata": {},
   "outputs": [],
   "source": [
    "# Construction of boundary condition block matrix for all regimes\n",
    "\n",
    "def b_matrix(L_vec, boundary_conditions_vec):\n",
    "    b_final_matrix = np.array([0])\n",
    "    for i in range(0,len(boundary_conditions_vec)):\n",
    "        b_block = np.zeros(len(x))\n",
    "        b_block[x >= L_vec[i]] = boundary_conditions_vec[i]\n",
    "        b_final_matrix = np.block([\n",
    "            b_final_matrix, b_block\n",
    "        ])\n",
    "    \n",
    "    return b_final_matrix[1:]"
   ]
  },
  {
   "cell_type": "code",
   "execution_count": 10,
   "id": "925b8b63",
   "metadata": {},
   "outputs": [],
   "source": [
    "# Construction of initial condition block matrix for all regimes \n",
    "\n",
    "def phi_matrix_def(boundary_conditions_vec, initial_conditions_vec, x, t):\n",
    "    phi_final_matrix = np.zeros(shape=(1,len(t)))\n",
    "    for i in range(0, len(boundary_conditions_vec)):\n",
    "        phi_block = np.zeros(shape = (len(x),len(t)))\n",
    "        phi_block[:,0] = initial_conditions_vec[i] * (x>0.0)\n",
    "        phi_block[len(x)-1,:] = boundary_conditions_vec[i]\n",
    "        \n",
    "        phi_final_matrix = np.block([\n",
    "            [phi_final_matrix],\n",
    "            [phi_block]\n",
    "        ])\n",
    "        \n",
    "    return phi_final_matrix[1:,:]"
   ]
  },
  {
   "cell_type": "code",
   "execution_count": 11,
   "id": "be1f1ad0",
   "metadata": {},
   "outputs": [],
   "source": [
    "# Example - extension of boundary term\n",
    "\n",
    "x0 = -8.0\n",
    "xn = 8.0\n",
    "xsteps = 1000\n",
    "dx = (xn-x0)/xsteps\n",
    "x = np.arange(x0, xn+dx, dx) #last x value is x = 99 \n",
    "#print(x,len(x),dx)\n",
    "\n",
    "t0 = 0.0\n",
    "tn = 1.0\n",
    "tsteps = 1000\n",
    "dt = (tn-t0)/tsteps\n",
    "t = np.arange(t0, tn+dt, dt) #last time value is t = 999.9\n",
    "r = dt / (dx**2) # ensure r < 1"
   ]
  },
  {
   "cell_type": "code",
   "execution_count": 12,
   "id": "89abd2b2",
   "metadata": {
    "scrolled": false
   },
   "outputs": [
    {
     "name": "stdout",
     "output_type": "stream",
     "text": [
      "[[0.3 0.2]\n",
      " [0.3 0.3]\n",
      " [0.  0. ]]\n",
      "[[0.3 0.2]\n",
      " [0.3 0.3]\n",
      " [0.  0. ]]\n",
      "[[0.3 0.2]\n",
      " [0.3 0.3]\n",
      " [0.  0. ]]\n",
      "Min: 0.9890408915405504 Max: 0.9890408915405504\n",
      "Min: 0.9890408915405504 Max: 0.9890408915405504\n",
      "Min: 0.9890408915405504 Max: 0.9890408915405504\n"
     ]
    },
    {
     "data": {
      "application/vnd.jupyter.widget-view+json": {
       "model_id": "62b94cf539e34821838320d903bf61f9",
       "version_major": 2,
       "version_minor": 0
      },
      "text/plain": [
       "  0%|          | 0/1000 [00:00<?, ?it/s]"
      ]
     },
     "metadata": {},
     "output_type": "display_data"
    }
   ],
   "source": [
    "# Example \n",
    "\n",
    "# Define Continuous Time Markov Chain generator for summation term in the PIDE\n",
    "\n",
    "Q = np.array([[-0.5, 0.3, 0.2], \n",
    "    [0.3, -0.6, 0.3],   \n",
    "    [0.0,0.0,-0.0]])\n",
    "\n",
    "# Define process parameters per regime\n",
    "\n",
    "kappa_vec = np.array([0.3,0.2,0.0])    ##### The parameters have been changed compared to the MC comparison notebook (limit S = 4.0 should still be ok)\n",
    "theta_vec = np.array([0.8, 0.5, 0.0])\n",
    "sigma_vec = np.array([0.3, 0.5, 0.0])\n",
    "\n",
    "# Define jump term parameters and related discretization parameters\n",
    "\n",
    "poisson_rate = 1.0\n",
    "mu_choice = 0.0\n",
    "sigma_jump_choice = 0.5\n",
    "N_choice = 160\n",
    "L_vec = np.array([6.0, 6.0, 6.0])\n",
    "boundary_conditions_vec = np.array([1.0,1.0,0.0])\n",
    "initial_conditions_vec = np.array([1.0,1.0,0.0])\n",
    "#int_approx = jump_integral(x = x, mu = mu_choice, N = N_choice, sigma_jump = sigma_jump_choice, step_x = dx)\n",
    "\n",
    "\n",
    "# Run Finite Difference iteration scheme\n",
    "\n",
    "M = M_final_rs(x,sigma_vec,kappa_vec, theta_vec, Q, L_vec = L_vec)\n",
    "N_mat = N_final_rs(x, poisson_rate = poisson_rate, N = N_choice, \n",
    "                   mu = mu_choice, sigma_jump = sigma_jump_choice, step_x = dx, Q = Q, L_vec = L_vec)\n",
    "\n",
    "b = b_matrix(L_vec = L_vec, boundary_conditions_vec = boundary_conditions_vec)\n",
    "phi_matrix = phi_matrix_def(boundary_conditions_vec = boundary_conditions_vec, \n",
    "                            initial_conditions_vec = initial_conditions_vec, x = x, t = t)\n",
    "\n",
    "stability = [sigma_vec[i]**2 >= np.max(np.abs(dx*kappa_vec[i]*(theta_vec[i]-x))) for i in range(0,len(sigma_vec))]\n",
    "\n",
    "if not all(stability):\n",
    "    print('Stability conditions may not be satisfied')\n",
    "    \n",
    "for time in tqdm(range(1, len(t))): \n",
    "    phi_matrix[:,time] = np.linalg.inv(M).dot(N_mat.dot(phi_matrix[:,time-1]) + b)\n"
   ]
  },
  {
   "cell_type": "code",
   "execution_count": 13,
   "id": "52f7a819",
   "metadata": {},
   "outputs": [],
   "source": [
    "accept_x_0 = np.where((x >= 0) & (x <= L_vec[0]))[0]\n",
    "accept_x_1 = np.where((x >= 0) & (x <= L_vec[1]))[0]\n",
    "accept_x_2 = np.where((x >= 0) & (x <= L_vec[2]))[0]"
   ]
  },
  {
   "cell_type": "code",
   "execution_count": 14,
   "id": "0bdf9499",
   "metadata": {},
   "outputs": [],
   "source": [
    "accept_x_0 = np.where((x >= 0) & (x <= 4.008))[0]\n",
    "accept_x_1 = np.where((x >= 0) & (x <= 4.008))[0]\n",
    "accept_x_2 = np.where((x >= 0) & (x <= 4.008))[0]"
   ]
  },
  {
   "cell_type": "code",
   "execution_count": 14,
   "id": "f0a010fe",
   "metadata": {},
   "outputs": [],
   "source": [
    "def survival(space,time):\n",
    "    return phi_matrix[space, time]"
   ]
  },
  {
   "cell_type": "code",
   "execution_count": 16,
   "id": "1c1e8b98",
   "metadata": {},
   "outputs": [
    {
     "data": {
      "text/plain": [
       "'temp-plot.html'"
      ]
     },
     "execution_count": 16,
     "metadata": {},
     "output_type": "execute_result"
    }
   ],
   "source": [
    "X = 0*len(x)+ accept_x_0\n",
    "T = np.arange(0,len(t),1)\n",
    "X, T = np.meshgrid(X, T)\n",
    "Phi = survival(X,T)\n",
    "\n",
    "data=go.Surface(z=Phi, x=x0+dx*accept_x_0, y=t0+dt*T)\n",
    "\n",
    "layout = go.Layout(scene = dict(\n",
    "                    xaxis_title='Initial Position',\n",
    "                    yaxis_title='Time until maturity',\n",
    "                    zaxis_title='Survival Probability'))\n",
    "\n",
    "fig = go.Figure(data=[data], layout=layout)\n",
    "pyoff.plot(fig)"
   ]
  },
  {
   "cell_type": "code",
   "execution_count": 17,
   "id": "3b1cc6f8",
   "metadata": {},
   "outputs": [
    {
     "data": {
      "text/plain": [
       "0.6666666666666666"
      ]
     },
     "execution_count": 17,
     "metadata": {},
     "output_type": "execute_result"
    }
   ],
   "source": [
    "def survival_av(space,time):\n",
    "    return (phi_matrix[space,time] + phi_matrix[1*len(x)+space,time] + phi_matrix[2*len(x)+space,time])/3.0\n",
    "\n",
    "survival_av(550,0)"
   ]
  },
  {
   "cell_type": "code",
   "execution_count": 32,
   "id": "35094146",
   "metadata": {},
   "outputs": [
    {
     "data": {
      "text/plain": [
       "'temp-plot.html'"
      ]
     },
     "execution_count": 32,
     "metadata": {},
     "output_type": "execute_result"
    }
   ],
   "source": [
    "X = 0*len(x)+accept_x_0#np.arange(len(x),2*len(x),1)\n",
    "T = np.arange(0,len(t),1)\n",
    "X, T = np.meshgrid(X, T)\n",
    "Phi = survival_av(X,T)\n",
    "\n",
    "data=go.Surface(z=Phi, x=x0+dx*X, y=t0+dt*T)\n",
    "\n",
    "layout = go.Layout(scene = dict(\n",
    "                    xaxis_title='Initial Position',\n",
    "                    yaxis_title='Time until maturity',\n",
    "                    zaxis_title='Survival Probability'))\n",
    "\n",
    "fig = go.Figure(data=[data], layout=layout)\n",
    "pyoff.plot(fig)"
   ]
  },
  {
   "cell_type": "code",
   "execution_count": 16,
   "id": "391d73aa",
   "metadata": {},
   "outputs": [],
   "source": [
    "surv = DataFrame(phi_matrix)"
   ]
  },
  {
   "cell_type": "code",
   "execution_count": null,
   "id": "43759b26",
   "metadata": {},
   "outputs": [],
   "source": []
  }
 ],
 "metadata": {
  "kernelspec": {
   "display_name": "Python 3",
   "language": "python",
   "name": "python3"
  },
  "language_info": {
   "codemirror_mode": {
    "name": "ipython",
    "version": 3
   },
   "file_extension": ".py",
   "mimetype": "text/x-python",
   "name": "python",
   "nbconvert_exporter": "python",
   "pygments_lexer": "ipython3",
   "version": "3.8.8"
  }
 },
 "nbformat": 4,
 "nbformat_minor": 5
}
