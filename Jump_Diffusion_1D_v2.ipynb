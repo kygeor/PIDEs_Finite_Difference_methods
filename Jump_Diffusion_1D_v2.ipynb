{
 "cells": [
  {
   "cell_type": "code",
   "execution_count": 1,
   "id": "a0461437",
   "metadata": {},
   "outputs": [],
   "source": [
    "# %matplotlib inline\n",
    "import matplotlib.pyplot as plt\n",
    "import numpy as np\n",
    "from math import *\n",
    "import scipy.stats\n",
    "from pandas import *\n",
    "#import scipy.integrate as integrate\n",
    "from scipy.integrate import quad\n",
    "import seaborn as sns\n",
    "import scipy as s\n",
    "import warnings\n",
    "warnings.filterwarnings(\"ignore\")\n",
    "from mpl_toolkits import mplot3d\n",
    "from tqdm import tqdm\n",
    "import plotly.offline as pyoff\n",
    "import plotly.graph_objs as go\n",
    "import plotly.graph_objects as go\n",
    "from scipy import linalg \n",
    "#pandas.set_option('display.max_rows',10000)"
   ]
  },
  {
   "cell_type": "code",
   "execution_count": 2,
   "id": "b9ff2c1a",
   "metadata": {},
   "outputs": [],
   "source": [
    "import time as tp"
   ]
  },
  {
   "cell_type": "code",
   "execution_count": 13,
   "id": "a7598ca2",
   "metadata": {},
   "outputs": [],
   "source": [
    "# Define function to calculate jump distribution for integral terms \n",
    "\n",
    "def jump_distribution_full(x_value,mu,sigma_jump,step_x):\n",
    "    lower = x_value - step_x/2.0\n",
    "    upper = x_value + step_x/2.0\n",
    "    #print(lower,upper)\n",
    "    def normal_distribution_function(x):\n",
    "        value = scipy.stats.norm.pdf(x,mu,sigma_jump)\n",
    "        return value\n",
    "    res, err = quad(normal_distribution_function, lower, upper)\n",
    "    return res  #output is a vector of the average densities around the regions of each value in the vector x"
   ]
  },
  {
   "cell_type": "code",
   "execution_count": 14,
   "id": "aefd8781",
   "metadata": {},
   "outputs": [],
   "source": [
    "# Coefficients as obtained from BTCS discretization scheme\n",
    "\n",
    "def a_coeff(x_value, sigma, kappa, theta):\n",
    "    coefficient = (sigma**2)/(dx**2)       \n",
    "    return coefficient\n",
    "\n",
    "def b_coeff(x_value, sigma, kappa, theta):\n",
    "    coefficient_2 = 0.5*(sigma**2)*(1/dx**2) + 0.5*(1/dx)*kappa*(theta-x_value)\n",
    "    return coefficient_2\n",
    "\n",
    "def c_coeff(x_value, sigma, kappa, theta):\n",
    "    coefficient_3 = 0.5*(sigma**2)*(1/dx**2) - 0.5*(1/dx)*kappa*(theta-x_value)\n",
    "    return coefficient_3   "
   ]
  },
  {
   "cell_type": "code",
   "execution_count": 15,
   "id": "1ecc2dda",
   "metadata": {},
   "outputs": [],
   "source": [
    "# Construction of M matrix containing the coefficients of the solution at time t = q+1 in the implicit scheme \n",
    "\n",
    "def M_matrix(x, sigma, kappa, theta):\n",
    "    M = np.zeros(shape=(len(x),len(x)))\n",
    "    for i in range(0,len(x)):\n",
    "        if x[i] <= 0 or x[i] >= L:\n",
    "            M[i,i] = 1.0\n",
    "        else:\n",
    "            #print(x[i])\n",
    "            a_coefficient = a_coeff(x[i], sigma, kappa, theta)\n",
    "            b_coefficient = b_coeff(x[i], sigma, kappa, theta)\n",
    "            c_coefficient = c_coeff(x[i], sigma, kappa, theta)\n",
    "            if a_coefficient < 0 or b_coefficient < 0 or c_coefficient <0:\n",
    "                print('Error')\n",
    "            M[i,(i-1):(i+2)] = [-dt*c_coefficient, 1+dt*a_coefficient, -dt*b_coefficient]\n",
    "\n",
    "    return M"
   ]
  },
  {
   "cell_type": "code",
   "execution_count": 16,
   "id": "95da655f",
   "metadata": {},
   "outputs": [],
   "source": [
    "# Calculation of integral term in the PIDE\n",
    "\n",
    "def jump_integral(x, mu, N, sigma_jump, step_x):\n",
    "    integral_list = []\n",
    "    positions = np.arange(int(-N/2+1),int(N/2),1)\n",
    "    for j in positions: \n",
    "        x_jump = step_x*j\n",
    "        integral = jump_distribution_full(x_jump, mu, sigma_jump, step_x)\n",
    "        #print(x_jump, integral)\n",
    "        integral_list.append(integral)\n",
    "\n",
    "    return sum(integral_list)"
   ]
  },
  {
   "cell_type": "code",
   "execution_count": 17,
   "id": "e0b7bb16",
   "metadata": {},
   "outputs": [],
   "source": [
    "# Construction of matrix containing the coefficients of the solution at time t = q in the implicit scheme \n",
    "\n",
    "\n",
    "def N_matrix(x, poisson_rate, N, mu, sigma_jump, step_x):\n",
    "    N_m = np.zeros(shape=(len(x),len(x)))\n",
    "    positions = np.arange(int(-N/2+1),int(N/2),1)\n",
    "    jump_result_list = []\n",
    "    for i in range(0,(len(x))):\n",
    "        integral_list = []\n",
    "        if x[i] > 0.0 and x[i] < L:\n",
    "            for j in positions: \n",
    "                x_jump = step_x*j\n",
    "                if (i+j) >= 0 and (i+j) <= (len(x)-1):\n",
    "                    integral = jump_distribution_full(x_jump, mu, sigma_jump, step_x)\n",
    "                    integral_list.append(integral)\n",
    "                    N_m[i,i+j] = poisson_rate*dt*integral\n",
    "                    \n",
    "            jump_integral = sum(integral_list)\n",
    "            N_m[i,i] = N_m[i,i]+ (1 - poisson_rate*dt*jump_integral)\n",
    "            \n",
    "            jump_result_list.append(jump_integral)\n",
    "            if 1-poisson_rate*dt*jump_integral < 0:\n",
    "                print('Error in integral approximation')\n",
    "                \n",
    "    print(f'Min: {min(jump_result_list,  default=\"EMPTY\")} Max: {max(jump_result_list,  default=\"EMPTY\")}')\n",
    "            \n",
    "    return N_m"
   ]
  },
  {
   "cell_type": "code",
   "execution_count": 18,
   "id": "44e9350a",
   "metadata": {},
   "outputs": [],
   "source": [
    "# Define x grid by extending the boundary to account for the jump term\n",
    "\n",
    "x0 = -10.0\n",
    "xn = 10.0\n",
    "L = 8.0\n",
    "xsteps = 1000\n",
    "dx = (xn-x0)/xsteps\n",
    "x = np.arange(x0, xn+dx, dx) #last x value is x = 99 "
   ]
  },
  {
   "cell_type": "code",
   "execution_count": 19,
   "id": "e3edd621",
   "metadata": {},
   "outputs": [
    {
     "name": "stdout",
     "output_type": "stream",
     "text": [
      "0.001\n"
     ]
    }
   ],
   "source": [
    "# Define the t grid\n",
    "\n",
    "t0 = 0.0\n",
    "tn = 1.0\n",
    "tsteps = 1000\n",
    "dt = (tn-t0)/tsteps\n",
    "t = np.arange(t0, tn+dt, dt) #last time value is t = 999.9\n",
    "r = dt / (dx**2) # ensure r < 1\n",
    "print(dt)\n",
    "#print(t,r,len(t),tsteps,dt)"
   ]
  },
  {
   "cell_type": "code",
   "execution_count": 20,
   "id": "de911f5b",
   "metadata": {},
   "outputs": [],
   "source": [
    "# Example \n",
    "\n",
    "sigma = 2.0 \n",
    "kappa = 0.5 \n",
    "theta = 3.5\n",
    "mu_jump = 0.0\n",
    "sigma_jump = 0.2\n",
    "rate = 1.0"
   ]
  },
  {
   "cell_type": "code",
   "execution_count": 21,
   "id": "c46960b5",
   "metadata": {},
   "outputs": [
    {
     "name": "stdout",
     "output_type": "stream",
     "text": [
      "0.999999999999907\n"
     ]
    },
    {
     "name": "stderr",
     "output_type": "stream",
     "text": [
      "  0%|          | 1/1000 [00:00<02:05,  7.94it/s]"
     ]
    },
    {
     "name": "stdout",
     "output_type": "stream",
     "text": [
      "Min: 0.999999999999907 Max: 0.999999999999907\n"
     ]
    },
    {
     "name": "stderr",
     "output_type": "stream",
     "text": [
      "100%|██████████| 1000/1000 [01:54<00:00,  8.75it/s]"
     ]
    },
    {
     "name": "stdout",
     "output_type": "stream",
     "text": [
      "-457.8346438407898\n"
     ]
    },
    {
     "name": "stderr",
     "output_type": "stream",
     "text": [
      "\n"
     ]
    }
   ],
   "source": [
    "# Example - applying the FD iterations\n",
    "\n",
    "t_zero = tp.time()\n",
    "\n",
    "sigma_choice = sigma\n",
    "kappa_choice = kappa\n",
    "theta_choice = theta\n",
    "N_choice = 150\n",
    "mu_choice = mu_jump\n",
    "sigma_jump_choice = sigma_jump\n",
    "poisson_rate = rate\n",
    "int_approx = jump_integral(x, mu_choice, N_choice, sigma_jump_choice, dx)\n",
    "print(int_approx)\n",
    "\n",
    "\n",
    "b = np.zeros(len(x))\n",
    "b[x >= L] = 1.0\n",
    "phi_matrix = np.zeros(shape=(len(x), len(t)))\n",
    "phi_matrix[:,0] = 1.0 * (x>0.0)\n",
    "phi_matrix[len(x)-1,:] = 1.0\n",
    "\n",
    "\n",
    "M = M_matrix(x, sigma = sigma_choice, kappa = kappa_choice, theta = theta_choice)\n",
    "N_mat = N_matrix(x, poisson_rate = poisson_rate, N = N_choice, \n",
    "                 mu = mu_choice, sigma_jump = sigma_jump_choice, step_x=dx)\n",
    "\n",
    "\n",
    "if (sigma_choice**2 < np.max(np.abs(dx*kappa_choice*(theta_choice-x)))) or ((poisson_rate*int_approx*dt > 1)):\n",
    "    print('Stability conditions may not be satisfied')\n",
    "    \n",
    "for time in tqdm(range(1, len(t))): \n",
    "    phi_matrix[:,time] = np.linalg.inv(M).dot(N_mat.dot(phi_matrix[:,time-1]) + b)\n",
    "\n",
    "t_final = tp.time()\n",
    "print(t_zero-t_final)"
   ]
  },
  {
   "cell_type": "code",
   "execution_count": 8,
   "id": "6c43a141",
   "metadata": {
    "scrolled": true
   },
   "outputs": [],
   "source": [
    "# Keep \"main\" solution within the domain\n",
    "\n",
    "accept_x = np.where((x>=0) & (x<=L))[0]\n",
    "#accept_x"
   ]
  },
  {
   "cell_type": "code",
   "execution_count": 10,
   "id": "9350784c",
   "metadata": {},
   "outputs": [],
   "source": [
    "def survival(space,time):\n",
    "    return phi_matrix[space, time]"
   ]
  },
  {
   "cell_type": "code",
   "execution_count": null,
   "id": "c95b00c4",
   "metadata": {},
   "outputs": [],
   "source": [
    "# Plot main solution\n",
    "\n",
    "X = accept_x #np.arange(50,65,1)\n",
    "T = np.arange(0,len(t),1)\n",
    "X, T = np.meshgrid(X, T)\n",
    "Phi = survival(X,T)\n",
    "\n",
    "data=go.Surface(z=Phi, x=x0+dx*X, y=t0+dt*T)\n",
    "\n",
    "layout = go.Layout(scene = dict(\n",
    "                    xaxis_title='Initial Position',\n",
    "                    yaxis_title='Time until maturity',\n",
    "                    zaxis_title='Survival Probability'))\n",
    "\n",
    "fig = go.Figure(data=[data], layout=layout)\n",
    "pyoff.plot(fig)\n",
    "#fig.show()"
   ]
  }
 ],
 "metadata": {
  "kernelspec": {
   "display_name": "Python 3",
   "language": "python",
   "name": "python3"
  },
  "language_info": {
   "codemirror_mode": {
    "name": "ipython",
    "version": 3
   },
   "file_extension": ".py",
   "mimetype": "text/x-python",
   "name": "python",
   "nbconvert_exporter": "python",
   "pygments_lexer": "ipython3",
   "version": "3.8.8"
  }
 },
 "nbformat": 4,
 "nbformat_minor": 5
}
